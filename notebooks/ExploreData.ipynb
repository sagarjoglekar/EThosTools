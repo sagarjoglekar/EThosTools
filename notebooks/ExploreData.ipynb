{
 "cells": [
  {
   "cell_type": "code",
   "execution_count": 1,
   "metadata": {
    "collapsed": true
   },
   "outputs": [],
   "source": [
    "import numpy as np\n",
    "%matplotlib inline\n",
    "import matplotlib.pyplot as plt\n",
    "import matplotlib.cm as cm\n",
    "import json\n",
    "import os\n",
    "import sys\n",
    "import pandas as pd"
   ]
  },
  {
   "cell_type": "code",
   "execution_count": 19,
   "metadata": {
    "collapsed": false
   },
   "outputs": [],
   "source": [
    "dataFile = \"../data/BL_Labs_EthOS_20150301.csv\"\n",
    "pd.set_option('display.mpl_style', 'default') \n",
    "pd.set_option('display.width', 5000) \n",
    "pd.set_option('display.max_columns', 60) \n"
   ]
  },
  {
   "cell_type": "code",
   "execution_count": 20,
   "metadata": {
    "collapsed": false
   },
   "outputs": [],
   "source": [
    "data = pd.read_csv(dataFile )"
   ]
  },
  {
   "cell_type": "code",
   "execution_count": 52,
   "metadata": {
    "collapsed": false
   },
   "outputs": [
    {
     "data": {
      "text/html": [
       "<div>\n",
       "<table border=\"1\" class=\"dataframe\">\n",
       "  <thead>\n",
       "    <tr style=\"text-align: right;\">\n",
       "      <th></th>\n",
       "      <th>Date</th>\n",
       "    </tr>\n",
       "  </thead>\n",
       "  <tbody>\n",
       "    <tr>\n",
       "      <th>count</th>\n",
       "      <td>387327.000000</td>\n",
       "    </tr>\n",
       "    <tr>\n",
       "      <th>mean</th>\n",
       "      <td>1997.319766</td>\n",
       "    </tr>\n",
       "    <tr>\n",
       "      <th>std</th>\n",
       "      <td>13.622776</td>\n",
       "    </tr>\n",
       "    <tr>\n",
       "      <th>min</th>\n",
       "      <td>1812.000000</td>\n",
       "    </tr>\n",
       "    <tr>\n",
       "      <th>25%</th>\n",
       "      <td>1989.000000</td>\n",
       "    </tr>\n",
       "    <tr>\n",
       "      <th>50%</th>\n",
       "      <td>2001.000000</td>\n",
       "    </tr>\n",
       "    <tr>\n",
       "      <th>75%</th>\n",
       "      <td>2008.000000</td>\n",
       "    </tr>\n",
       "    <tr>\n",
       "      <th>max</th>\n",
       "      <td>2015.000000</td>\n",
       "    </tr>\n",
       "  </tbody>\n",
       "</table>\n",
       "</div>"
      ],
      "text/plain": [
       "                Date\n",
       "count  387327.000000\n",
       "mean     1997.319766\n",
       "std        13.622776\n",
       "min      1812.000000\n",
       "25%      1989.000000\n",
       "50%      2001.000000\n",
       "75%      2008.000000\n",
       "max      2015.000000"
      ]
     },
     "execution_count": 52,
     "metadata": {},
     "output_type": "execute_result"
    }
   ],
   "source": [
    "data.describe()"
   ]
  },
  {
   "cell_type": "code",
   "execution_count": 28,
   "metadata": {
    "collapsed": false
   },
   "outputs": [
    {
     "data": {
      "text/html": [
       "<div>\n",
       "<table border=\"1\" class=\"dataframe\">\n",
       "  <thead>\n",
       "    <tr style=\"text-align: right;\">\n",
       "      <th></th>\n",
       "      <th>Title</th>\n",
       "      <th>Author</th>\n",
       "      <th>Supervisor(s)</th>\n",
       "      <th>Awarding Body</th>\n",
       "      <th>Institution</th>\n",
       "      <th>Date</th>\n",
       "      <th>Qualification</th>\n",
       "      <th>Abstract</th>\n",
       "      <th>Keywords</th>\n",
       "      <th>DDC</th>\n",
       "      <th>Embargo</th>\n",
       "      <th>Restrictions</th>\n",
       "      <th>IR Link</th>\n",
       "      <th>EThOS Link</th>\n",
       "    </tr>\n",
       "  </thead>\n",
       "  <tbody>\n",
       "    <tr>\n",
       "      <th>0</th>\n",
       "      <td>Active-set prediction for interior point methods</td>\n",
       "      <td>Yan, Yiming</td>\n",
       "      <td>Cartis, Coralia; Mckinnon, Kenneth</td>\n",
       "      <td>University of Edinburgh</td>\n",
       "      <td>University of Edinburgh</td>\n",
       "      <td>2015</td>\n",
       "      <td>Thesis (Ph.D.)</td>\n",
       "      <td>This research studies how to efficiently predi...</td>\n",
       "      <td>active-set prediction ; interior point methods...</td>\n",
       "      <td>NaN</td>\n",
       "      <td>NaN</td>\n",
       "      <td>NaN</td>\n",
       "      <td>http://hdl.handle.net/1842/9949</td>\n",
       "      <td>http://ethos.bl.uk/OrderDetails.do?uin=uk.bl.e...</td>\n",
       "    </tr>\n",
       "    <tr>\n",
       "      <th>1</th>\n",
       "      <td>Industrially challenging separations via adsor...</td>\n",
       "      <td>Lennox, Matthew James</td>\n",
       "      <td>Duren, Tina; Sarkisov, Lev</td>\n",
       "      <td>University of Edinburgh</td>\n",
       "      <td>University of Edinburgh</td>\n",
       "      <td>2015</td>\n",
       "      <td>Thesis (Ph.D.)</td>\n",
       "      <td>In recent years, metal-organic frameworks (MOF...</td>\n",
       "      <td>adsorption ; MOF ; metal-organic frameworks ; ...</td>\n",
       "      <td>NaN</td>\n",
       "      <td>NaN</td>\n",
       "      <td>NaN</td>\n",
       "      <td>http://hdl.handle.net/1842/9929</td>\n",
       "      <td>http://ethos.bl.uk/OrderDetails.do?uin=uk.bl.e...</td>\n",
       "    </tr>\n",
       "    <tr>\n",
       "      <th>2</th>\n",
       "      <td>The Limits of Bioenergy : A Complex Systems Ap...</td>\n",
       "      <td>Strapasson, Alexandre Betinardi</td>\n",
       "      <td>NaN</td>\n",
       "      <td>Imperial College London</td>\n",
       "      <td>Imperial College London</td>\n",
       "      <td>2015</td>\n",
       "      <td>Thesis (Ph.D.)</td>\n",
       "      <td>NaN</td>\n",
       "      <td>NaN</td>\n",
       "      <td>NaN</td>\n",
       "      <td>NaN</td>\n",
       "      <td>NaN</td>\n",
       "      <td>NaN</td>\n",
       "      <td>http://ethos.bl.uk/OrderDetails.do?uin=uk.bl.e...</td>\n",
       "    </tr>\n",
       "    <tr>\n",
       "      <th>3</th>\n",
       "      <td>Worlds apart : a longitudinal, multinational e...</td>\n",
       "      <td>Demes, Kali A.</td>\n",
       "      <td>NaN</td>\n",
       "      <td>University of Essex</td>\n",
       "      <td>University of Essex</td>\n",
       "      <td>2015</td>\n",
       "      <td>Thesis (Ph.D.)</td>\n",
       "      <td>The research presented in this thesis describe...</td>\n",
       "      <td>NaN</td>\n",
       "      <td>303.48</td>\n",
       "      <td>NaN</td>\n",
       "      <td>NaN</td>\n",
       "      <td>NaN</td>\n",
       "      <td>http://ethos.bl.uk/OrderDetails.do?uin=uk.bl.e...</td>\n",
       "    </tr>\n",
       "    <tr>\n",
       "      <th>4</th>\n",
       "      <td>Mallarm� Apollinaire Maeterlinck Jarry : space...</td>\n",
       "      <td>Shtutin, Leo</td>\n",
       "      <td>Holland, Michael</td>\n",
       "      <td>University of Oxford</td>\n",
       "      <td>University of Oxford</td>\n",
       "      <td>2015</td>\n",
       "      <td>Thesis (Ph.D.)</td>\n",
       "      <td>This study explores the interrelationship betw...</td>\n",
       "      <td>Literatures of Romance languages ; Dramatic ar...</td>\n",
       "      <td>NaN</td>\n",
       "      <td>NaN</td>\n",
       "      <td>NaN</td>\n",
       "      <td>http://ora.ox.ac.uk/objects/uuid:5599de57-2028...</td>\n",
       "      <td>http://ethos.bl.uk/OrderDetails.do?uin=uk.bl.e...</td>\n",
       "    </tr>\n",
       "  </tbody>\n",
       "</table>\n",
       "</div>"
      ],
      "text/plain": [
       "                                               Title                           Author                       Supervisor(s)            Awarding Body              Institution  Date   Qualification                                           Abstract                                           Keywords     DDC Embargo Restrictions                                            IR Link                                         EThOS Link\n",
       "0   Active-set prediction for interior point methods                      Yan, Yiming  Cartis, Coralia; Mckinnon, Kenneth  University of Edinburgh  University of Edinburgh  2015  Thesis (Ph.D.)  This research studies how to efficiently predi...  active-set prediction ; interior point methods...     NaN     NaN          NaN                    http://hdl.handle.net/1842/9949  http://ethos.bl.uk/OrderDetails.do?uin=uk.bl.e...\n",
       "1  Industrially challenging separations via adsor...            Lennox, Matthew James          Duren, Tina; Sarkisov, Lev  University of Edinburgh  University of Edinburgh  2015  Thesis (Ph.D.)  In recent years, metal-organic frameworks (MOF...  adsorption ; MOF ; metal-organic frameworks ; ...     NaN     NaN          NaN                    http://hdl.handle.net/1842/9929  http://ethos.bl.uk/OrderDetails.do?uin=uk.bl.e...\n",
       "2  The Limits of Bioenergy : A Complex Systems Ap...  Strapasson, Alexandre Betinardi                                 NaN  Imperial College London  Imperial College London  2015  Thesis (Ph.D.)                                                NaN                                                NaN     NaN     NaN          NaN                                                NaN  http://ethos.bl.uk/OrderDetails.do?uin=uk.bl.e...\n",
       "3  Worlds apart : a longitudinal, multinational e...                   Demes, Kali A.                                 NaN      University of Essex      University of Essex  2015  Thesis (Ph.D.)  The research presented in this thesis describe...                                                NaN  303.48     NaN          NaN                                                NaN  http://ethos.bl.uk/OrderDetails.do?uin=uk.bl.e...\n",
       "4  Mallarm� Apollinaire Maeterlinck Jarry : space...                     Shtutin, Leo                    Holland, Michael     University of Oxford     University of Oxford  2015  Thesis (Ph.D.)  This study explores the interrelationship betw...  Literatures of Romance languages ; Dramatic ar...     NaN     NaN          NaN  http://ora.ox.ac.uk/objects/uuid:5599de57-2028...  http://ethos.bl.uk/OrderDetails.do?uin=uk.bl.e..."
      ]
     },
     "execution_count": 28,
     "metadata": {},
     "output_type": "execute_result"
    }
   ],
   "source": [
    "data.head()"
   ]
  },
  {
   "cell_type": "code",
   "execution_count": 70,
   "metadata": {
    "collapsed": false
   },
   "outputs": [
    {
     "data": {
      "text/plain": [
       "count                                                387324\n",
       "unique                                               387324\n",
       "top       http://ethos.bl.uk/OrderDetails.do?uin=uk.bl.e...\n",
       "freq                                                      1\n",
       "Name: EThOS Link, dtype: object"
      ]
     },
     "execution_count": 70,
     "metadata": {},
     "output_type": "execute_result"
    }
   ],
   "source": [
    "data['EThOS Link'].describe()"
   ]
  },
  {
   "cell_type": "code",
   "execution_count": 69,
   "metadata": {
    "collapsed": false,
    "scrolled": true
   },
   "outputs": [
    {
     "data": {
      "text/plain": [
       "280838"
      ]
     },
     "execution_count": 69,
     "metadata": {},
     "output_type": "execute_result"
    }
   ],
   "source": [
    "np.sum([pd.isnull(data['IR Link']) == True])\n"
   ]
  },
  {
   "cell_type": "code",
   "execution_count": null,
   "metadata": {
    "collapsed": true
   },
   "outputs": [],
   "source": []
  }
 ],
 "metadata": {
  "kernelspec": {
   "display_name": "Python 2",
   "language": "python",
   "name": "python2"
  },
  "language_info": {
   "codemirror_mode": {
    "name": "ipython",
    "version": 2
   },
   "file_extension": ".py",
   "mimetype": "text/x-python",
   "name": "python",
   "nbconvert_exporter": "python",
   "pygments_lexer": "ipython2",
   "version": "2.7.6"
  }
 },
 "nbformat": 4,
 "nbformat_minor": 0
}
